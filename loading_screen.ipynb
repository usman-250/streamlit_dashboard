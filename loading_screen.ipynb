{
 "cells": [
  {
   "cell_type": "code",
   "execution_count": null,
   "id": "0d5f1187",
   "metadata": {
    "scrolled": true
   },
   "outputs": [
    {
     "name": "stdout",
     "output_type": "stream",
     "text": [
      " * Serving Flask app '__main__' (lazy loading)\n",
      " * Environment: production\n",
      "\u001b[31m   WARNING: This is a development server. Do not use it in a production deployment.\u001b[0m\n",
      "\u001b[2m   Use a production WSGI server instead.\u001b[0m\n",
      " * Debug mode: off\n"
     ]
    },
    {
     "name": "stderr",
     "output_type": "stream",
     "text": [
      "2021-11-01 18:22:59.533 INFO    werkzeug:  * Running on http://127.0.0.1:4000/ (Press CTRL+C to quit)\n",
      "2021-11-01 18:23:43.740 INFO    werkzeug: 127.0.0.1 - - [01/Nov/2021 18:23:43] \"GET / HTTP/1.1\" 200 -\n",
      "2021-11-01 18:23:43.768 INFO    werkzeug: 127.0.0.1 - - [01/Nov/2021 18:23:43] \"\u001b[36mGET /static/style_j.css HTTP/1.1\u001b[0m\" 304 -\n",
      "2021-11-01 18:23:44.887 INFO    werkzeug: 127.0.0.1 - - [01/Nov/2021 18:23:44] \"POST / HTTP/1.1\" 200 -\n",
      "2021-11-01 18:23:44.935 INFO    werkzeug: 127.0.0.1 - - [01/Nov/2021 18:23:44] \"\u001b[36mGET /static/loading3.css HTTP/1.1\u001b[0m\" 304 -\n",
      "/home/techverx/Desktop/projects/resume_ranking/auto_recruitment/utils/scoring_helpers.py:561: FutureWarning: In a future version of pandas all arguments of DataFrame.drop except for the argument 'labels' will be keyword-only\n",
      "  testing = testing.drop('variable', 1)\n"
     ]
    },
    {
     "name": "stdout",
     "output_type": "stream",
     "text": [
      "exception in scoring_helpers.exp_to_from fun  list index out of range\n"
     ]
    },
    {
     "name": "stderr",
     "output_type": "stream",
     "text": [
      "/home/techverx/Desktop/projects/resume_ranking/auto_recruitment/utils/scoring_helpers.py:561: FutureWarning: In a future version of pandas all arguments of DataFrame.drop except for the argument 'labels' will be keyword-only\n",
      "  testing = testing.drop('variable', 1)\n",
      "/home/techverx/Desktop/projects/resume_ranking/auto_recruitment/utils/scoring_helpers.py:561: FutureWarning: In a future version of pandas all arguments of DataFrame.drop except for the argument 'labels' will be keyword-only\n",
      "  testing = testing.drop('variable', 1)\n",
      "/home/techverx/Desktop/projects/resume_ranking/auto_recruitment/utils/scoring_helpers.py:561: FutureWarning: In a future version of pandas all arguments of DataFrame.drop except for the argument 'labels' will be keyword-only\n",
      "  testing = testing.drop('variable', 1)\n",
      "/home/techverx/Desktop/projects/resume_ranking/auto_recruitment/utils/scoring_helpers.py:561: FutureWarning: In a future version of pandas all arguments of DataFrame.drop except for the argument 'labels' will be keyword-only\n",
      "  testing = testing.drop('variable', 1)\n",
      "/home/techverx/Desktop/projects/resume_ranking/auto_recruitment/utils/scoring_helpers.py:561: FutureWarning: In a future version of pandas all arguments of DataFrame.drop except for the argument 'labels' will be keyword-only\n",
      "  testing = testing.drop('variable', 1)\n",
      "/home/techverx/Desktop/projects/resume_ranking/auto_recruitment/utils/scoring_helpers.py:561: FutureWarning: In a future version of pandas all arguments of DataFrame.drop except for the argument 'labels' will be keyword-only\n",
      "  testing = testing.drop('variable', 1)\n",
      "/home/techverx/Desktop/projects/resume_ranking/auto_recruitment/utils/scoring_helpers.py:561: FutureWarning: In a future version of pandas all arguments of DataFrame.drop except for the argument 'labels' will be keyword-only\n",
      "  testing = testing.drop('variable', 1)\n",
      "/home/techverx/.local/lib/python3.9/site-packages/sklearn/base.py:310: UserWarning: Trying to unpickle estimator LogisticRegression from version 0.22.1 when using version 0.24.2. This might lead to breaking code or invalid results. Use at your own risk.\n",
      "  warnings.warn(\n",
      "/home/techverx/.local/lib/python3.9/site-packages/sklearn/base.py:310: UserWarning: Trying to unpickle estimator DecisionTreeClassifier from version 0.22.1 when using version 0.24.2. This might lead to breaking code or invalid results. Use at your own risk.\n",
      "  warnings.warn(\n",
      "/home/techverx/.local/lib/python3.9/site-packages/sklearn/base.py:310: UserWarning: Trying to unpickle estimator RandomForestClassifier from version 0.22.1 when using version 0.24.2. This might lead to breaking code or invalid results. Use at your own risk.\n",
      "  warnings.warn(\n",
      "/home/techverx/.local/lib/python3.9/site-packages/sklearn/base.py:310: UserWarning: Trying to unpickle estimator CountVectorizer from version 0.22.1 when using version 0.24.2. This might lead to breaking code or invalid results. Use at your own risk.\n",
      "  warnings.warn(\n"
     ]
    },
    {
     "name": "stdout",
     "output_type": "stream",
     "text": [
      "///////////////\n"
     ]
    },
    {
     "name": "stderr",
     "output_type": "stream",
     "text": [
      "/home/techverx/Desktop/projects/resume_ranking/auto_recruitment/utils/scoring_helpers.py:561: FutureWarning: In a future version of pandas all arguments of DataFrame.drop except for the argument 'labels' will be keyword-only\n",
      "  testing = testing.drop('variable', 1)\n"
     ]
    },
    {
     "name": "stdout",
     "output_type": "stream",
     "text": [
      "exception in scoring_helpers.exp_to_from fun  list index out of range\n"
     ]
    },
    {
     "name": "stderr",
     "output_type": "stream",
     "text": [
      "/home/techverx/Desktop/projects/resume_ranking/auto_recruitment/utils/scoring_helpers.py:561: FutureWarning: In a future version of pandas all arguments of DataFrame.drop except for the argument 'labels' will be keyword-only\n",
      "  testing = testing.drop('variable', 1)\n",
      "/home/techverx/Desktop/projects/resume_ranking/auto_recruitment/utils/scoring_helpers.py:561: FutureWarning: In a future version of pandas all arguments of DataFrame.drop except for the argument 'labels' will be keyword-only\n",
      "  testing = testing.drop('variable', 1)\n",
      "/home/techverx/Desktop/projects/resume_ranking/auto_recruitment/utils/scoring_helpers.py:561: FutureWarning: In a future version of pandas all arguments of DataFrame.drop except for the argument 'labels' will be keyword-only\n",
      "  testing = testing.drop('variable', 1)\n",
      "/home/techverx/Desktop/projects/resume_ranking/auto_recruitment/utils/scoring_helpers.py:561: FutureWarning: In a future version of pandas all arguments of DataFrame.drop except for the argument 'labels' will be keyword-only\n",
      "  testing = testing.drop('variable', 1)\n",
      "/home/techverx/Desktop/projects/resume_ranking/auto_recruitment/utils/scoring_helpers.py:561: FutureWarning: In a future version of pandas all arguments of DataFrame.drop except for the argument 'labels' will be keyword-only\n",
      "  testing = testing.drop('variable', 1)\n",
      "/home/techverx/Desktop/projects/resume_ranking/auto_recruitment/utils/scoring_helpers.py:561: FutureWarning: In a future version of pandas all arguments of DataFrame.drop except for the argument 'labels' will be keyword-only\n",
      "  testing = testing.drop('variable', 1)\n",
      "/home/techverx/Desktop/projects/resume_ranking/auto_recruitment/utils/scoring_helpers.py:561: FutureWarning: In a future version of pandas all arguments of DataFrame.drop except for the argument 'labels' will be keyword-only\n",
      "  testing = testing.drop('variable', 1)\n",
      "/home/techverx/.local/lib/python3.9/site-packages/sklearn/base.py:310: UserWarning: Trying to unpickle estimator LogisticRegression from version 0.22.1 when using version 0.24.2. This might lead to breaking code or invalid results. Use at your own risk.\n",
      "  warnings.warn(\n",
      "/home/techverx/.local/lib/python3.9/site-packages/sklearn/base.py:310: UserWarning: Trying to unpickle estimator DecisionTreeClassifier from version 0.22.1 when using version 0.24.2. This might lead to breaking code or invalid results. Use at your own risk.\n",
      "  warnings.warn(\n",
      "/home/techverx/.local/lib/python3.9/site-packages/sklearn/base.py:310: UserWarning: Trying to unpickle estimator RandomForestClassifier from version 0.22.1 when using version 0.24.2. This might lead to breaking code or invalid results. Use at your own risk.\n",
      "  warnings.warn(\n",
      "/home/techverx/.local/lib/python3.9/site-packages/sklearn/base.py:310: UserWarning: Trying to unpickle estimator CountVectorizer from version 0.22.1 when using version 0.24.2. This might lead to breaking code or invalid results. Use at your own risk.\n",
      "  warnings.warn(\n"
     ]
    },
    {
     "name": "stdout",
     "output_type": "stream",
     "text": [
      "///////////////\n"
     ]
    },
    {
     "name": "stderr",
     "output_type": "stream",
     "text": [
      "/home/techverx/Desktop/projects/resume_ranking/auto_recruitment/utils/scoring_helpers.py:561: FutureWarning: In a future version of pandas all arguments of DataFrame.drop except for the argument 'labels' will be keyword-only\n",
      "  testing = testing.drop('variable', 1)\n"
     ]
    },
    {
     "name": "stdout",
     "output_type": "stream",
     "text": [
      "exception in scoring_helpers.exp_to_from fun  list index out of range\n"
     ]
    },
    {
     "name": "stderr",
     "output_type": "stream",
     "text": [
      "/home/techverx/Desktop/projects/resume_ranking/auto_recruitment/utils/scoring_helpers.py:561: FutureWarning: In a future version of pandas all arguments of DataFrame.drop except for the argument 'labels' will be keyword-only\n",
      "  testing = testing.drop('variable', 1)\n",
      "/home/techverx/Desktop/projects/resume_ranking/auto_recruitment/utils/scoring_helpers.py:561: FutureWarning: In a future version of pandas all arguments of DataFrame.drop except for the argument 'labels' will be keyword-only\n",
      "  testing = testing.drop('variable', 1)\n",
      "/home/techverx/Desktop/projects/resume_ranking/auto_recruitment/utils/scoring_helpers.py:561: FutureWarning: In a future version of pandas all arguments of DataFrame.drop except for the argument 'labels' will be keyword-only\n",
      "  testing = testing.drop('variable', 1)\n",
      "/home/techverx/Desktop/projects/resume_ranking/auto_recruitment/utils/scoring_helpers.py:561: FutureWarning: In a future version of pandas all arguments of DataFrame.drop except for the argument 'labels' will be keyword-only\n",
      "  testing = testing.drop('variable', 1)\n",
      "/home/techverx/Desktop/projects/resume_ranking/auto_recruitment/utils/scoring_helpers.py:561: FutureWarning: In a future version of pandas all arguments of DataFrame.drop except for the argument 'labels' will be keyword-only\n",
      "  testing = testing.drop('variable', 1)\n",
      "/home/techverx/Desktop/projects/resume_ranking/auto_recruitment/utils/scoring_helpers.py:561: FutureWarning: In a future version of pandas all arguments of DataFrame.drop except for the argument 'labels' will be keyword-only\n",
      "  testing = testing.drop('variable', 1)\n",
      "/home/techverx/Desktop/projects/resume_ranking/auto_recruitment/utils/scoring_helpers.py:561: FutureWarning: In a future version of pandas all arguments of DataFrame.drop except for the argument 'labels' will be keyword-only\n",
      "  testing = testing.drop('variable', 1)\n",
      "/home/techverx/.local/lib/python3.9/site-packages/sklearn/base.py:310: UserWarning: Trying to unpickle estimator LogisticRegression from version 0.22.1 when using version 0.24.2. This might lead to breaking code or invalid results. Use at your own risk.\n",
      "  warnings.warn(\n",
      "/home/techverx/.local/lib/python3.9/site-packages/sklearn/base.py:310: UserWarning: Trying to unpickle estimator DecisionTreeClassifier from version 0.22.1 when using version 0.24.2. This might lead to breaking code or invalid results. Use at your own risk.\n",
      "  warnings.warn(\n",
      "/home/techverx/.local/lib/python3.9/site-packages/sklearn/base.py:310: UserWarning: Trying to unpickle estimator RandomForestClassifier from version 0.22.1 when using version 0.24.2. This might lead to breaking code or invalid results. Use at your own risk.\n",
      "  warnings.warn(\n",
      "/home/techverx/.local/lib/python3.9/site-packages/sklearn/base.py:310: UserWarning: Trying to unpickle estimator CountVectorizer from version 0.22.1 when using version 0.24.2. This might lead to breaking code or invalid results. Use at your own risk.\n",
      "  warnings.warn(\n"
     ]
    },
    {
     "name": "stdout",
     "output_type": "stream",
     "text": [
      "///////////////\n"
     ]
    },
    {
     "name": "stderr",
     "output_type": "stream",
     "text": [
      "2021-11-01 18:24:21.470 INFO    werkzeug: 127.0.0.1 - - [01/Nov/2021 18:24:21] \"\u001b[32mGET /processing HTTP/1.1\u001b[0m\" 302 -\n"
     ]
    }
   ],
   "source": [
    "import os, glob\n",
    "from time import sleep\n",
    "from flask import Flask, request, render_template,url_for,redirect\n",
    "\n",
    "from utils import dashboard_utils\n",
    "import screening_main\n",
    "from utils import tf_idf_cosine_similarity as tf_idf\n",
    "\n",
    "\n",
    "app = Flask(__name__)\n",
    "app.config['UPLOAD_FOLDER']='./'\n",
    "\n",
    "@app.route(\"/processing\")\n",
    "def processing():\n",
    "    path_to_jds = './job_descriptions/*'\n",
    "    all_jds = glob.glob(path_to_jds)\n",
    "\n",
    "    for jd_path in all_jds:\n",
    "        jd_name = os.path.basename(jd_path).split('.')[0]\n",
    "        selected_job_description = dashboard_utils.read_selected_job_description(jd_path)\n",
    "        model_predictions = screening_main.main_fun(selected_job_description,jd_name)\n",
    "        \n",
    "    return redirect('http://localhost:8501/')\n",
    "\n",
    "@app.route('/', methods=['GET', 'POST'])\n",
    "def upload():\n",
    "\n",
    "    if request.method == 'POST':\n",
    "        if request.files['text']:\n",
    "            txt=request.files['text']\n",
    "            txt.save(os.path.join(app.config['UPLOAD_FOLDER']+'linkedin_profiles/', txt.filename))\n",
    "\n",
    "        if request.files.getlist('jd'):\n",
    "            for jd in request.files.getlist('jd'):\n",
    "                if jd.filename!='':\n",
    "                    jd.save(os.path.join(app.config['UPLOAD_FOLDER']+'job_descriptions/', jd.filename))\n",
    " \n",
    "        if request.files.getlist('resumes'):\n",
    "            for f in request.files.getlist('resumes'):\n",
    "                if f.filename!='':\n",
    "                    f.save(os.path.join(app.config['UPLOAD_FOLDER']+'testing_resume/', f.filename))          \n",
    "        return render_template('loading3.html')\n",
    "    return render_template('index_j.html')\n",
    "\n",
    "\n",
    "if __name__ == '__main__':\n",
    "    app.run(debug = False, port = 4000)"
   ]
  },
  {
   "cell_type": "code",
   "execution_count": null,
   "id": "c5d93492",
   "metadata": {},
   "outputs": [],
   "source": [
    "pwd"
   ]
  },
  {
   "cell_type": "code",
   "execution_count": null,
   "id": "35c93421",
   "metadata": {},
   "outputs": [],
   "source": [
    "d  = {'s1':'empty', 's2':'sdfsf'}\n",
    "\n",
    "print(d.get('s3'))"
   ]
  },
  {
   "cell_type": "code",
   "execution_count": null,
   "id": "7b10b2f4",
   "metadata": {},
   "outputs": [],
   "source": [
    "import pandas as pd\n",
    "s1 = pd.read_csv('ss1.csv')\n",
    "s2 = pd.read_csv('ss2.csv')"
   ]
  },
  {
   "cell_type": "code",
   "execution_count": null,
   "id": "05aa5cca",
   "metadata": {},
   "outputs": [],
   "source": [
    "s1"
   ]
  },
  {
   "cell_type": "code",
   "execution_count": null,
   "id": "72159457",
   "metadata": {},
   "outputs": [],
   "source": [
    "s1.dtypes"
   ]
  },
  {
   "cell_type": "code",
   "execution_count": null,
   "id": "90552a25",
   "metadata": {},
   "outputs": [],
   "source": [
    "# column_names = [\"Unnamed: 0\", \"Role\", \"Skills\", \"Aliases\", \"Parent\"]\n",
    "\n",
    "# df = pd.DataFrame(columns = column_names)\n",
    "# del df['Unnamed: 0']\n",
    "\n",
    "# df\n",
    "\n",
    "s1['Aliases'] = s1['Aliases'].astype(object)\n",
    "s2['Aliases'] = s2['Aliases'].astype(object)"
   ]
  },
  {
   "cell_type": "code",
   "execution_count": null,
   "id": "442207a2",
   "metadata": {},
   "outputs": [],
   "source": [
    "intersection_df = pd.merge(s1, s2)\n",
    "intersection_df"
   ]
  },
  {
   "cell_type": "code",
   "execution_count": null,
   "id": "8d256029",
   "metadata": {},
   "outputs": [],
   "source": [
    "# s1 = pd.read_csv('ss1.csv')\n",
    "# s2 = pd.read_csv('ss2.csv')\n",
    "del s2['Unnamed: 0']\n",
    "del s1['Unnamed: 0']"
   ]
  },
  {
   "cell_type": "code",
   "execution_count": null,
   "id": "69226cd6",
   "metadata": {},
   "outputs": [],
   "source": [
    "intersection_df = pd.merge(s1, s2)\n",
    "intersection_df"
   ]
  },
  {
   "cell_type": "code",
   "execution_count": null,
   "id": "7f6f6b28",
   "metadata": {},
   "outputs": [],
   "source": [
    "s2.dtypes"
   ]
  },
  {
   "cell_type": "code",
   "execution_count": null,
   "id": "6e1c39aa",
   "metadata": {},
   "outputs": [],
   "source": [
    "s1.dtypes"
   ]
  },
  {
   "cell_type": "code",
   "execution_count": null,
   "id": "5521a536",
   "metadata": {},
   "outputs": [],
   "source": [
    "s1['Aliases'] = s1['Aliases'].astype(str)\n",
    "s2['Aliases'] = s2['Aliases'].astype(str)\n"
   ]
  },
  {
   "cell_type": "code",
   "execution_count": null,
   "id": "24041960",
   "metadata": {},
   "outputs": [],
   "source": [
    "s1.where(pd.notnull(s1), None)"
   ]
  },
  {
   "cell_type": "code",
   "execution_count": null,
   "id": "48b36dbd",
   "metadata": {},
   "outputs": [],
   "source": [
    "s1.dtypes"
   ]
  },
  {
   "cell_type": "code",
   "execution_count": null,
   "id": "8a2dfa69",
   "metadata": {},
   "outputs": [],
   "source": [
    "s2['Aliases']"
   ]
  },
  {
   "cell_type": "code",
   "execution_count": null,
   "id": "b41a5f58",
   "metadata": {},
   "outputs": [],
   "source": [
    "dd = {'Role': {0: 'Data Science', 1: 'Back End', 2: 'Front End', 3: 'Hybrid Mobile Developement', 4: 'Talent Acquisition', 5: 'Compensation and Benefits', 6: 'Data Science', 7: 'Back End', 13: 'Back End'}, 'Skills': {0: 'python', 1: 'javascript', 2: 'javascript', 3: 'javascript', 4: 'english', 5: 'english', 6: 'api', 7: 'python', 13: 'api'}, 'Aliases': {0: nan, 1: nan, 2: nan, 3: nan, 4: nan, 5: nan, 6: nan, 7: nan, 13: nan}, 'Parent': {0: 'Skills', 1: 'Skills', 2: 'Skills', 3: 'Skills', 4: 'Skills', 5: 'Skills', 6: 'Skills', 7: 'Skills', 13: 'Skills'}}\n",
    "\n",
    "dd"
   ]
  },
  {
   "cell_type": "code",
   "execution_count": null,
   "id": "5b3671ea",
   "metadata": {},
   "outputs": [],
   "source": [
    "def skills_similarity_with_jd(job_description,skills_string):\n",
    "    \"\"\"\n",
    "        Function will take job description and resumes (pdf or docs)\n",
    "        vectorize documents using TF-IDF\n",
    "        match vectors using cosine similarity\n",
    "    \"\"\"\n",
    "    try:\n",
    "        job_description = job_description #change here\n",
    "        # print('The start' * 5)\n",
    "        skills_text = [skills_string]\n",
    "\n",
    "        # TF-IDF - cosine similarity\n",
    "        cos_sim_list = tf_idf.get_tf_idf_cosine_similarity(job_description,skills_text)\n",
    "    #     final_doc_rating_list = []\n",
    "    #     zipped_docs = zip(cos_sim_list,resume_docs)\n",
    "    #     sorted_doc_list = sorted(zipped_docs, key = lambda x: x[0], reverse=True)\n",
    "    #     for element in sorted_doc_list:\n",
    "    #         doc_rating_list = []\n",
    "    #         doc_rating_list.append(os.path.basename(element[1]))\n",
    "    #         doc_rating_list.append(\"{:.0%}\".format(element[0]))\n",
    "    #         final_doc_rating_list.append(doc_rating_list)\n",
    "        return cos_sim_list\n",
    "    except Exception as e:\n",
    "        print ('''exception in scoring_helpers.skills_similarity_with_jd fun ''', e)\n",
    "        return 0"
   ]
  },
  {
   "cell_type": "code",
   "execution_count": null,
   "id": "7d833bac",
   "metadata": {},
   "outputs": [],
   "source": [
    "jdf = ['mean stack', 'internet of things (iot)', 'flutter', 'project planning', 'it strategy', \\\n",
    "                       'web development', 'project management', 'market research', 'business strategy', \\\n",
    "                       'software documentation', 'web applications', 'architectural design', 'testing', \\\n",
    "                       'distributed systems', 'agile methodologies', 'big data', 'software architecture',\\\n",
    "                       'amazon web services (aws)', 'angularjs', 'node.js', 'php', 'codeigniter', 'wordpress',\\\n",
    "                       'javascript', 'ajax', 'html5' ,'bootstrap' , 'cascading style sheets (css)', 'databases', \\\n",
    "                       'mongodb', 'microsoft office', 'material design', 'software as a service (saas)',\\\n",
    "                       'ms office suite', 'slim framework', 'leadership', 'capacity building', 'team building',\\\n",
    "                       'team management', 'management', 'mvc', 'api development', 'web services api',\\\n",
    "                       'performance monitoring', 'value chain analysis', 'css javascript', 'gmap', 'uikit',\\\n",
    "                       'microservices']\n",
    "# jdf = ['python (programming language)', 'deep learning', 'machine learning', 'data science', 'data mining', \\\n",
    "#        'computer vision', 'data analysis', 'image processing', 'artificial intelligence (ai)', 'informatics',\\\n",
    "#        'statistics', 'big data', 'project management', 'object-oriented programming (oop)', 'tensorflow',\\\n",
    "#        'keras', 'deep neural networks (dnn)', 'github', 'microsoft excel', 'microsoft word', 'leadership', \\\n",
    "#        'convolutional neural networks (cnn)', 'object detection', 'neural networks', \\\n",
    "#        'artificial neural networks', 'supervised learning', 'scikit-learn', 'numpy', 'matplotlib', \\\n",
    "#        'bayesian statistics', 'genetic algorithms', 'support vector machine (svm)', 'big data analytics',\\\n",
    "#        'data analytics', 'apache spark']|\n",
    "\n",
    "linkedin_skill_list = ['mean stack', 'internet of things (iot)', 'flutter', 'project planning', 'it strategy', \\\n",
    "                       'web development']\n",
    "linkedin_top_3 = linkedin_skill_list[:3]\n",
    "\n",
    "linkedin_top_3_dict = {}\n",
    "\n",
    "# top 3\n",
    "for top in linkedin_top_3:\n",
    "    \n",
    "    skills_similarity_ = \\\n",
    "            skills_similarity_with_jd(' '.join(jdf).lower().replace('skills',''), top.lower())\n",
    "    linkedin_top_3_dict[top] = skills_similarity_\n",
    "    \n",
    "# from index 3\n",
    "if len(linkedin_skill_list)>3:\n",
    "    linkedin_skills_from_ind_3 = \\\n",
    "                skills_similarity_with_jd(' '.join(jdf).lower().replace('skills',''), ' '.join(linkedin_skill_list[3:]).lower())\n",
    "\n",
    "\n",
    "    \n",
    "\n",
    "skills_similarity_with_jd_ = \\\n",
    "            skills_similarity_with_jd(' '.join(jdf).lower().replace('skills',''), ' '.join(linkedin_skill_list).lower())\n",
    "\n",
    "linkedin_skills_from_ind_3"
   ]
  },
  {
   "cell_type": "code",
   "execution_count": null,
   "id": "0d8e6f07",
   "metadata": {},
   "outputs": [],
   "source": [
    "linkedin_top_3_dict"
   ]
  },
  {
   "cell_type": "code",
   "execution_count": null,
   "id": "58593c31",
   "metadata": {},
   "outputs": [],
   "source": [
    "top3 = 0\n",
    "for key,val in linkedin_top_3_dict.items():\n",
    "    top3 += val\n",
    "    \n",
    "total = top3+linkedin_skills_from_ind_3\n",
    "top3 = top3/total\n",
    "top3"
   ]
  },
  {
   "cell_type": "code",
   "execution_count": null,
   "id": "de5b1be2",
   "metadata": {},
   "outputs": [],
   "source": [
    "linkedin_skills_wo_top3 = linkedin_skills_from_ind_3/total\n",
    "linkedin_skills_wo_top3\n",
    "experience = 0"
   ]
  },
  {
   "cell_type": "code",
   "execution_count": null,
   "id": "ffb743e2",
   "metadata": {},
   "outputs": [],
   "source": [
    "(top3*(1/2)+experience*(1/3)+linkedin_skills_wo_top3*(1/6))*0.6"
   ]
  },
  {
   "cell_type": "code",
   "execution_count": null,
   "id": "b50d6995",
   "metadata": {},
   "outputs": [],
   "source": []
  },
  {
   "cell_type": "code",
   "execution_count": null,
   "id": "eb84a12e",
   "metadata": {},
   "outputs": [],
   "source": [
    "#60\n",
    "#30 top3 skills\n",
    "#20 experience\n",
    "#10 remaining\n",
    "\n",
    "(top3*50+experience*33+skills(without-top3)*(100/6))/100\n",
    "\n",
    "\n",
    "\n",
    "\n",
    "\n",
    "#40"
   ]
  },
  {
   "cell_type": "code",
   "execution_count": null,
   "id": "ec1b820f",
   "metadata": {},
   "outputs": [],
   "source": []
  },
  {
   "cell_type": "code",
   "execution_count": null,
   "id": "7cb333f4",
   "metadata": {},
   "outputs": [],
   "source": []
  }
 ],
 "metadata": {
  "kernelspec": {
   "display_name": "nlp",
   "language": "python",
   "name": "nlp"
  },
  "language_info": {
   "codemirror_mode": {
    "name": "ipython",
    "version": 3
   },
   "file_extension": ".py",
   "mimetype": "text/x-python",
   "name": "python",
   "nbconvert_exporter": "python",
   "pygments_lexer": "ipython3",
   "version": "3.9.6"
  }
 },
 "nbformat": 4,
 "nbformat_minor": 5
}
