{
 "cells": [
  {
   "cell_type": "code",
   "execution_count": 2,
   "id": "e0307a77",
   "metadata": {},
   "outputs": [],
   "source": [
    "import pandas as pd\n",
    "df=pd.read_csv('/home/techverx/Desktop/projects/resume_ranking/dd.csv',)"
   ]
  },
  {
   "cell_type": "code",
   "execution_count": 3,
   "id": "5919d143",
   "metadata": {},
   "outputs": [
    {
     "data": {
      "text/html": [
       "<div>\n",
       "<style scoped>\n",
       "    .dataframe tbody tr th:only-of-type {\n",
       "        vertical-align: middle;\n",
       "    }\n",
       "\n",
       "    .dataframe tbody tr th {\n",
       "        vertical-align: top;\n",
       "    }\n",
       "\n",
       "    .dataframe thead th {\n",
       "        text-align: right;\n",
       "    }\n",
       "</style>\n",
       "<table border=\"1\" class=\"dataframe\">\n",
       "  <thead>\n",
       "    <tr style=\"text-align: right;\">\n",
       "      <th></th>\n",
       "      <th>Roles</th>\n",
       "      <th>Skills</th>\n",
       "      <th>Aliases</th>\n",
       "      <th>Parent</th>\n",
       "    </tr>\n",
       "  </thead>\n",
       "  <tbody>\n",
       "    <tr>\n",
       "      <th>0</th>\n",
       "      <td>Data Science</td>\n",
       "      <td>numpy</td>\n",
       "      <td>NaN</td>\n",
       "      <td>Skills</td>\n",
       "    </tr>\n",
       "    <tr>\n",
       "      <th>1</th>\n",
       "      <td>Data Science</td>\n",
       "      <td>deep learning</td>\n",
       "      <td>NaN</td>\n",
       "      <td>Skills</td>\n",
       "    </tr>\n",
       "    <tr>\n",
       "      <th>2</th>\n",
       "      <td>Data Science</td>\n",
       "      <td>api</td>\n",
       "      <td>NaN</td>\n",
       "      <td>Skills</td>\n",
       "    </tr>\n",
       "    <tr>\n",
       "      <th>3</th>\n",
       "      <td>Data Science</td>\n",
       "      <td>machine learning</td>\n",
       "      <td>scipy</td>\n",
       "      <td>Skills</td>\n",
       "    </tr>\n",
       "    <tr>\n",
       "      <th>4</th>\n",
       "      <td>Data Science</td>\n",
       "      <td>numpy</td>\n",
       "      <td>NaN</td>\n",
       "      <td>Skills</td>\n",
       "    </tr>\n",
       "    <tr>\n",
       "      <th>5</th>\n",
       "      <td>Data Science</td>\n",
       "      <td>deep learning</td>\n",
       "      <td>deep learning</td>\n",
       "      <td>Skills</td>\n",
       "    </tr>\n",
       "    <tr>\n",
       "      <th>6</th>\n",
       "      <td>Data Science</td>\n",
       "      <td>api</td>\n",
       "      <td>NaN</td>\n",
       "      <td>Skills</td>\n",
       "    </tr>\n",
       "    <tr>\n",
       "      <th>7</th>\n",
       "      <td>Back End</td>\n",
       "      <td>sql</td>\n",
       "      <td>sql</td>\n",
       "      <td>Skills</td>\n",
       "    </tr>\n",
       "    <tr>\n",
       "      <th>8</th>\n",
       "      <td>Back End</td>\n",
       "      <td>nosql</td>\n",
       "      <td>NaN</td>\n",
       "      <td>Skills</td>\n",
       "    </tr>\n",
       "    <tr>\n",
       "      <th>9</th>\n",
       "      <td>Back End</td>\n",
       "      <td>rest api</td>\n",
       "      <td>NaN</td>\n",
       "      <td>Skills</td>\n",
       "    </tr>\n",
       "    <tr>\n",
       "      <th>10</th>\n",
       "      <td>Back End</td>\n",
       "      <td>api</td>\n",
       "      <td>NaN</td>\n",
       "      <td>Skills</td>\n",
       "    </tr>\n",
       "    <tr>\n",
       "      <th>11</th>\n",
       "      <td>Back End</td>\n",
       "      <td>sql</td>\n",
       "      <td>NaN</td>\n",
       "      <td>Skills</td>\n",
       "    </tr>\n",
       "    <tr>\n",
       "      <th>12</th>\n",
       "      <td>Back End</td>\n",
       "      <td>nosql</td>\n",
       "      <td>nosql</td>\n",
       "      <td>Skills</td>\n",
       "    </tr>\n",
       "    <tr>\n",
       "      <th>13</th>\n",
       "      <td>Back End</td>\n",
       "      <td>rest api</td>\n",
       "      <td>NaN</td>\n",
       "      <td>Skills</td>\n",
       "    </tr>\n",
       "    <tr>\n",
       "      <th>14</th>\n",
       "      <td>Back End</td>\n",
       "      <td>api</td>\n",
       "      <td>NaN</td>\n",
       "      <td>Skills</td>\n",
       "    </tr>\n",
       "  </tbody>\n",
       "</table>\n",
       "</div>"
      ],
      "text/plain": [
       "           Roles            Skills        Aliases  Parent\n",
       "0   Data Science             numpy            NaN  Skills\n",
       "1   Data Science     deep learning            NaN  Skills\n",
       "2   Data Science               api            NaN  Skills\n",
       "3   Data Science  machine learning          scipy  Skills\n",
       "4   Data Science             numpy            NaN  Skills\n",
       "5   Data Science     deep learning  deep learning  Skills\n",
       "6   Data Science               api            NaN  Skills\n",
       "7       Back End               sql            sql  Skills\n",
       "8       Back End             nosql            NaN  Skills\n",
       "9       Back End          rest api            NaN  Skills\n",
       "10      Back End               api            NaN  Skills\n",
       "11      Back End               sql            NaN  Skills\n",
       "12      Back End             nosql          nosql  Skills\n",
       "13      Back End          rest api            NaN  Skills\n",
       "14      Back End               api            NaN  Skills"
      ]
     },
     "execution_count": 3,
     "metadata": {},
     "output_type": "execute_result"
    }
   ],
   "source": [
    "df=df.iloc[:,1:]\n",
    "df"
   ]
  },
  {
   "cell_type": "code",
   "execution_count": 4,
   "id": "7e16b0dc",
   "metadata": {},
   "outputs": [],
   "source": [
    "df.fillna('NAN',inplace=True)"
   ]
  },
  {
   "cell_type": "code",
   "execution_count": 5,
   "id": "24100db8",
   "metadata": {},
   "outputs": [],
   "source": [
    "L=[]\n",
    "for index, row in df.iterrows():\n",
    "    L.append([row['Roles'], row['Skills'],row['Aliases'],row['Parent']])\n",
    " "
   ]
  },
  {
   "cell_type": "code",
   "execution_count": 6,
   "id": "95a6fc55",
   "metadata": {},
   "outputs": [
    {
     "name": "stdout",
     "output_type": "stream",
     "text": [
      "['Data Science', 'numpy', 'NAN', 'Skills']\n",
      "['Data Science', 'deep learning', 'NAN', 'Skills']\n",
      "['Data Science', 'api', 'NAN', 'Skills']\n",
      "['Data Science', 'machine learning', 'scipy', 'Skills']\n",
      "['Data Science', 'numpy', 'NAN', 'Skills']\n",
      "['Data Science', 'deep learning', 'deep learning', 'Skills']\n",
      "['Data Science', 'api', 'NAN', 'Skills']\n",
      "['Back End', 'sql', 'sql', 'Skills']\n",
      "['Back End', 'nosql', 'NAN', 'Skills']\n",
      "['Back End', 'rest api', 'NAN', 'Skills']\n",
      "['Back End', 'api', 'NAN', 'Skills']\n",
      "['Back End', 'sql', 'NAN', 'Skills']\n",
      "['Back End', 'nosql', 'nosql', 'Skills']\n",
      "['Back End', 'rest api', 'NAN', 'Skills']\n",
      "['Back End', 'api', 'NAN', 'Skills']\n"
     ]
    }
   ],
   "source": [
    "new_k = []\n",
    "for elem in L:\n",
    "    print(elem)\n",
    "    if elem not in new_k:\n",
    "        new_k.append(elem)\n",
    "L = new_k"
   ]
  },
  {
   "cell_type": "code",
   "execution_count": 7,
   "id": "11e53298",
   "metadata": {},
   "outputs": [],
   "source": [
    "temp=[]\n",
    "temp2=[]\n",
    "for elem in L:\n",
    "    if elem!=[elem[0],elem[1],'NAN',elem[3]]:\n",
    "        temp.append(elem)\n",
    "    else:\n",
    "        temp2.append(elem)\n"
   ]
  },
  {
   "cell_type": "code",
   "execution_count": 8,
   "id": "3fbce9c6",
   "metadata": {},
   "outputs": [
    {
     "name": "stdout",
     "output_type": "stream",
     "text": [
      "0\n",
      "1\n",
      "0\n",
      "1\n",
      "0\n",
      "0\n",
      "1\n"
     ]
    }
   ],
   "source": [
    "final1=[]\n",
    "for elem in temp2:\n",
    "    decision=[]\n",
    "    for elems in temp:     \n",
    "        if [elem[0],elem[1],elem[3]]==[elems[0],elems[1],elems[3]]:\n",
    "            decision.append(1)\n",
    "        else:\n",
    "            decision.append(0)\n",
    "    print(sum(decision))\n",
    "    if sum(decision)==0:\n",
    "        final1.append(elem)\n",
    "temp.extend(final1)"
   ]
  },
  {
   "cell_type": "code",
   "execution_count": 8,
   "id": "a0101ff7",
   "metadata": {},
   "outputs": [
    {
     "data": {
      "text/plain": [
       "[['Back End', 'api', 'NAN', 'Skills'],\n",
       " ['Back End', 'nosql', 'nosql', 'Skills'],\n",
       " ['Back End', 'rest api', 'NAN', 'Skills'],\n",
       " ['Back End', 'sql', 'sql', 'Skills'],\n",
       " ['Data Science', 'api', 'NAN', 'Skills'],\n",
       " ['Data Science', 'deep learning', 'deep learning', 'Skills'],\n",
       " ['Data Science', 'machine learning', 'scipy', 'Skills'],\n",
       " ['Data Science', 'numpy', 'NAN', 'Skills']]"
      ]
     },
     "execution_count": 8,
     "metadata": {},
     "output_type": "execute_result"
    }
   ],
   "source": [
    "sorted(temp)"
   ]
  },
  {
   "cell_type": "code",
   "execution_count": 1,
   "id": "e9cc0008",
   "metadata": {},
   "outputs": [
    {
     "ename": "NameError",
     "evalue": "name 'temp' is not defined",
     "output_type": "error",
     "traceback": [
      "\u001b[0;31m---------------------------------------------------------------------------\u001b[0m",
      "\u001b[0;31mNameError\u001b[0m                                 Traceback (most recent call last)",
      "\u001b[0;32m/tmp/ipykernel_19158/3940897349.py\u001b[0m in \u001b[0;36m<module>\u001b[0;34m\u001b[0m\n\u001b[0;32m----> 1\u001b[0;31m \u001b[0mtemp\u001b[0m\u001b[0;34m\u001b[0m\u001b[0;34m\u001b[0m\u001b[0m\n\u001b[0m",
      "\u001b[0;31mNameError\u001b[0m: name 'temp' is not defined"
     ]
    }
   ],
   "source": [
    "temp"
   ]
  },
  {
   "cell_type": "code",
   "execution_count": null,
   "id": "550955b0",
   "metadata": {},
   "outputs": [],
   "source": []
  }
 ],
 "metadata": {
  "kernelspec": {
   "display_name": "Python 3 (ipykernel)",
   "language": "python",
   "name": "python3"
  },
  "language_info": {
   "codemirror_mode": {
    "name": "ipython",
    "version": 3
   },
   "file_extension": ".py",
   "mimetype": "text/x-python",
   "name": "python",
   "nbconvert_exporter": "python",
   "pygments_lexer": "ipython3",
   "version": "3.9.6"
  }
 },
 "nbformat": 4,
 "nbformat_minor": 5
}
