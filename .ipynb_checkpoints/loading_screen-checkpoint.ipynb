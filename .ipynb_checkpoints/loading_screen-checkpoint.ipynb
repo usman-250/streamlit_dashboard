{
 "cells": [
  {
   "cell_type": "code",
   "execution_count": null,
   "id": "0d5f1187",
   "metadata": {
    "scrolled": true
   },
   "outputs": [
    {
     "name": "stdout",
     "output_type": "stream",
     "text": [
      " * Serving Flask app '__main__' (lazy loading)\n",
      " * Environment: production\n",
      "\u001b[31m   WARNING: This is a development server. Do not use it in a production deployment.\u001b[0m\n",
      "\u001b[2m   Use a production WSGI server instead.\u001b[0m\n",
      " * Debug mode: off\n"
     ]
    },
    {
     "name": "stderr",
     "output_type": "stream",
     "text": [
      "2021-10-28 10:59:27.151 INFO    werkzeug:  * Running on http://127.0.0.1:4000/ (Press CTRL+C to quit)\n",
      "2021-10-28 10:59:28.493 INFO    werkzeug: 127.0.0.1 - - [28/Oct/2021 10:59:28] \"GET / HTTP/1.1\" 200 -\n",
      "2021-10-28 10:59:28.537 INFO    werkzeug: 127.0.0.1 - - [28/Oct/2021 10:59:28] \"\u001b[36mGET /static/stylen.css HTTP/1.1\u001b[0m\" 304 -\n"
     ]
    }
   ],
   "source": [
    "import os, glob\n",
    "from time import sleep\n",
    "from flask import Flask, request, render_template,url_for,redirect\n",
    "\n",
    "from utils import dashboard_utils\n",
    "import screening_main\n",
    "\n",
    "\n",
    "app = Flask(__name__)\n",
    "app.config['UPLOAD_FOLDER']='./'\n",
    "\n",
    "@app.route(\"/processing\")\n",
    "def processing():\n",
    "    path_to_jds = './job_descriptions/*'\n",
    "    all_jds = glob.glob(path_to_jds)\n",
    "\n",
    "    for jd_path in all_jds:\n",
    "        jd_name = os.path.basename(jd_path).split('.')[0]\n",
    "        selected_job_description = dashboard_utils.read_selected_job_description(jd_path)\n",
    "        model_predictions = screening_main.main_fun(selected_job_description,jd_name)\n",
    "        \n",
    "    return redirect('http://localhost:8501/')\n",
    "\n",
    "@app.route('/', methods=['GET', 'POST'])\n",
    "def upload():\n",
    "\n",
    "    if request.method == 'POST':\n",
    "        if request.files['text']:\n",
    "            txt=request.files['text']\n",
    "            txt.save(os.path.join(app.config['UPLOAD_FOLDER']+'linkedin_profiles/', txt.filename))\n",
    "\n",
    "        if request.files.getlist('jd'):\n",
    "            for jd in request.files.getlist('jd'):\n",
    "                if jd.filename!='':\n",
    "                    jd.save(os.path.join(app.config['UPLOAD_FOLDER']+'job_descriptions/', jd.filename))\n",
    " \n",
    "        if request.files.getlist('resumes'):\n",
    "            for f in request.files.getlist('resumes'):\n",
    "                if f.filename!='':\n",
    "                    f.save(os.path.join(app.config['UPLOAD_FOLDER']+'testing_resume/', f.filename))          \n",
    "        return render_template('loading3.html')\n",
    "    return render_template('h.html')\n",
    "\n",
    "\n",
    "if __name__ == '__main__':\n",
    "    app.run(debug = False, port = 4000)"
   ]
  },
  {
   "cell_type": "code",
   "execution_count": null,
   "id": "c5d93492",
   "metadata": {},
   "outputs": [],
   "source": [
    "pwd"
   ]
  }
 ],
 "metadata": {
  "kernelspec": {
   "display_name": "nlp",
   "language": "python",
   "name": "nlp"
  },
  "language_info": {
   "codemirror_mode": {
    "name": "ipython",
    "version": 3
   },
   "file_extension": ".py",
   "mimetype": "text/x-python",
   "name": "python",
   "nbconvert_exporter": "python",
   "pygments_lexer": "ipython3",
   "version": "3.9.6"
  }
 },
 "nbformat": 4,
 "nbformat_minor": 5
}
